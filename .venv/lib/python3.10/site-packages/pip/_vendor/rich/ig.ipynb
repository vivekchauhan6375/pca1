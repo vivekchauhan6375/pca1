{
 "cells": [
  {
   "cell_type": "code",
   "execution_count": 1,
   "metadata": {},
   "outputs": [],
   "source": [
    "import pandas as pd \n",
    "import numpy as np \n",
    "import matplotlib.pyplot as plt \n",
    "import seaborn as sns\n"
   ]
  },
  {
   "cell_type": "code",
   "execution_count": 2,
   "metadata": {},
   "outputs": [],
   "source": [
    "x1 = np.random.normal(loc = 3 , scale=1, size=100)\n",
    "x2 = (2*x1) + 5 + np.random.normal(size = 100)\n",
    "\n",
    "training_data = pd.DataFrame(data={'X1': x1, 'X2':x2})"
   ]
  },
  {
   "cell_type": "code",
   "execution_count": null,
   "metadata": {},
   "outputs": [],
   "source": [
    "training_data"
   ]
  },
  {
   "cell_type": "code",
   "execution_count": null,
   "metadata": {},
   "outputs": [],
   "source": [
    "plt.figure(figsize=(8,6))\n",
    "sns.scatterplot(x='X1', y='X2', data=training_data)"
   ]
  },
  {
   "cell_type": "code",
   "execution_count": 5,
   "metadata": {},
   "outputs": [],
   "source": [
    "sigma = training_data.cov()"
   ]
  },
  {
   "cell_type": "code",
   "execution_count": 6,
   "metadata": {},
   "outputs": [
    {
     "data": {
      "text/html": [
       "<div>\n",
       "<style scoped>\n",
       "    .dataframe tbody tr th:only-of-type {\n",
       "        vertical-align: middle;\n",
       "    }\n",
       "\n",
       "    .dataframe tbody tr th {\n",
       "        vertical-align: top;\n",
       "    }\n",
       "\n",
       "    .dataframe thead th {\n",
       "        text-align: right;\n",
       "    }\n",
       "</style>\n",
       "<table border=\"1\" class=\"dataframe\">\n",
       "  <thead>\n",
       "    <tr style=\"text-align: right;\">\n",
       "      <th></th>\n",
       "      <th>X1</th>\n",
       "      <th>X2</th>\n",
       "    </tr>\n",
       "  </thead>\n",
       "  <tbody>\n",
       "    <tr>\n",
       "      <th>X1</th>\n",
       "      <td>0.954994</td>\n",
       "      <td>1.958091</td>\n",
       "    </tr>\n",
       "    <tr>\n",
       "      <th>X2</th>\n",
       "      <td>1.958091</td>\n",
       "      <td>5.239498</td>\n",
       "    </tr>\n",
       "  </tbody>\n",
       "</table>\n",
       "</div>"
      ],
      "text/plain": [
       "          X1        X2\n",
       "X1  0.954994  1.958091\n",
       "X2  1.958091  5.239498"
      ]
     },
     "execution_count": 6,
     "metadata": {},
     "output_type": "execute_result"
    }
   ],
   "source": [
    "sigma"
   ]
  },
  {
   "cell_type": "code",
   "execution_count": 7,
   "metadata": {},
   "outputs": [],
   "source": [
    "factorize_sigma = np.linalg.svd(sigma)"
   ]
  },
  {
   "cell_type": "code",
   "execution_count": 8,
   "metadata": {},
   "outputs": [
    {
     "data": {
      "text/plain": [
       "SVDResult(U=array([[-0.36185537, -0.93223425],\n",
       "       [-0.93223425,  0.36185537]]), S=array([5.99954892, 0.19494285]), Vh=array([[-0.36185537, -0.93223425],\n",
       "       [-0.93223425,  0.36185537]]))"
      ]
     },
     "execution_count": 8,
     "metadata": {},
     "output_type": "execute_result"
    }
   ],
   "source": [
    "factorize_sigma"
   ]
  },
  {
   "cell_type": "code",
   "execution_count": 10,
   "metadata": {},
   "outputs": [],
   "source": [
    "Q_transpose = factorize_sigma[0]\n",
    "Q = Q_transpose.T\n",
    "X_transpose = np.array(training_data)\n",
    "X_bar_transpose = np.array(training_data - training_data.mean())\n",
    "X_bar = X_bar_transpose.T\n",
    "n_train = training_data.shape[0]\n",
    "sigma = (1/n_train)*np.matmul(X_bar,X_transpose)\n"
   ]
  },
  {
   "cell_type": "code",
   "execution_count": 11,
   "metadata": {},
   "outputs": [],
   "source": [
    "Z = np.matmul(Q, X_bar)"
   ]
  },
  {
   "cell_type": "code",
   "execution_count": 16,
   "metadata": {},
   "outputs": [],
   "source": [
    "projected_training_data = pd.DataFrame(data=Z.T, columns=[\"z1\",\"z2\"])"
   ]
  },
  {
   "cell_type": "code",
   "execution_count": 17,
   "metadata": {},
   "outputs": [],
   "source": [
    "eig_val = factorize_sigma[1]\n",
    "total = np.sum(eig_val)"
   ]
  },
  {
   "cell_type": "code",
   "execution_count": 18,
   "metadata": {},
   "outputs": [],
   "source": [
    "var_sum = 0\n",
    "preserved_variance_percentage = 0.8\n",
    "for i in range(eig_val.shape[0]):\n",
    "    if (var_sum//total)> preserved_variance_percentage:\n",
    "        break\n",
    "    var_sum+=eig_val[i]\n",
    "projected_dim_reduced_data = projected_training_data.iloc[:,0:(i-1)]"
   ]
  },
  {
   "cell_type": "markdown",
   "metadata": {},
   "source": [
    "1. remove target feature column where from you rdataset ot get x transpose\n",
    "2. from x transppose compute x bar transpose\n",
    "3. X_bar_transpose = np.array(training_data - training_data.mean())\n",
    "4. compute covariance matrix of data as \n",
    "5. n_train = training data.shape[0]\n",
    "6. x_bar = x_bar_transpose.T\n",
    "6. sigma = (1/n_train)*np.matmul(x_bar, x_traspose)\n",
    "8. we want to project our data x_bar transpoe(of shape n_train,p)\n",
    "where p is the number of input feature in our dataset, into such a kind of vector space\n",
    "having orhtogonal basis vector that the covariance matrix of the projected data will  be diagonal D, so lets say  that all the basis vector of vector space are in Q (shajpe p*p). so our proejcted data is going to be given by Q.xbar\n",
    "..Now we want the covariance matrix of this projected data to be D\n",
    "..on solving this and rearranging this equation we get-\n",
    "sigma = qt.D.q\n",
    "but surprising the above equation this evd of sigma . so , now we want Q because we want to Project our data. and now we know to get Q --> by performing evd of sigma\n",
    "\n",
    "4. factorize sigma = np.lingalg.svd(sigma)\n",
    "furthermore we also get to know that d=^\n",
    "\n",
    "Q_\n",
    "\n",
    "\n",
    "\n",
    "step 5. k"
   ]
  }
 ],
 "metadata": {
  "kernelspec": {
   "display_name": ".venv",
   "language": "python",
   "name": "python3"
  },
  "language_info": {
   "codemirror_mode": {
    "name": "ipython",
    "version": 3
   },
   "file_extension": ".py",
   "mimetype": "text/x-python",
   "name": "python",
   "nbconvert_exporter": "python",
   "pygments_lexer": "ipython3",
   "version": "3.10.12"
  },
  "orig_nbformat": 4
 },
 "nbformat": 4,
 "nbformat_minor": 2
}
